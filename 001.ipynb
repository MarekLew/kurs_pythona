{
 "cells": [
  {
   "cell_type": "markdown",
   "metadata": {},
   "source": [
    "Linki:\n",
    "* [Python](https://www.python.org/)\n",
    "* [Dokumentacja](https://www.python.org/doc/)"
   ]
  },
  {
   "cell_type": "markdown",
   "metadata": {},
   "source": [
    "## Typy i struktury danych\n",
    "\n",
    "| Typ | Opis | Przykład |\n",
    "|-|-|-|\n",
    "|<code>str</code>| Ciąg znaków (niezmienny)|<code>'Wikipedia'</code> lub <code>\"Wikipedia\"</code>\n",
    "|<code>bytes</code>| Sekwencja bajtów (niezmienna)|<code>b'Wikipedia'</code> lub <code>b\"Wikipedia\"</code>\n",
    "| <code>list</code>| Lista (zmienna, zawartość, długość)| <code>[4.0, 'string', True]</code>\n",
    "| <code>tuple</code>| Krotka (niezmienna)| <code>(4.0, 'string', True)</code>\n",
    "| <code>set</code>| Zbiór (zmienny)|<code>{4.0, 'string', True}</code>\n",
    "| <code>frozenset</code>| Zbiór (niezmienny)|<code>frozenset({4.0, 'string', True})</code>\n",
    "| <code>dict</code>| Słownik, czyli tablica asocjacyjna (zmienny).| <code>{'key1': 1.0, 3: False}</code>\n",
    "| <code>int</code>| Liczba całkowita o dowolnej wartości| <code>42</code>\n",
    "| <code>float</code>| Liczba zmiennoprzecinkowa| <code>3.1415927</code>\n",
    "| <code>complex</code>| Liczba zespolona| <code>3+2.7j</code>\n",
    "|<code>bool</code>| Wartość logiczna (prawda lub fałsz)|<code>True</code><br /><code>False</code>\n",
    "| <code>NoneType</code>| Obiekt reprezentujący brak wartości, będący odpowiednikiem wartości <code>null</code> w innych językach| <code>None</code>|"
   ]
  },
  {
   "cell_type": "markdown",
   "metadata": {},
   "source": [
    "* Zmienna\n",
    "    * To uchwyt w pamięci.\n",
    "    * deklarowanie zmienny operatora przypisania `=`\n",
    "    * nazwy zmiennych\n",
    "* tekst string\n",
    "    * Używamy cudzysłowy albo apostrofy \n",
    "* komentarze "
   ]
  },
  {
   "cell_type": "markdown",
   "metadata": {},
   "source": []
  }
 ],
 "metadata": {
  "interpreter": {
   "hash": "41fb6f42c941f3fcf46e6a69fd3fab65529caaaede1028070cf8b768ae23d3b9"
  },
  "kernelspec": {
   "display_name": "Python 3.10.0 64-bit",
   "language": "python",
   "name": "python3"
  },
  "language_info": {
   "codemirror_mode": {
    "name": "ipython",
    "version": 3
   },
   "file_extension": ".py",
   "mimetype": "text/x-python",
   "name": "python",
   "nbconvert_exporter": "python",
   "pygments_lexer": "ipython3",
   "version": "3.10.0"
  },
  "orig_nbformat": 4
 },
 "nbformat": 4,
 "nbformat_minor": 2
}
