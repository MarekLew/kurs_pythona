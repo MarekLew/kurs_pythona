{
 "cells": [
  {
   "cell_type": "markdown",
   "metadata": {},
   "source": [
    "\n",
    "|..             |..           |Funkcje wbudowane |..                |..|\n",
    "|---------------|-------------|--------------|--------------|---------------|\n",
    "|`abs`          |`delattr`    |`hash`        |*memoryview*  |*set*         |\n",
    "|`all`          |*dict*       |`help`        |`min`         |`setattr`     |\n",
    "|`any`          |`dir`        |`hex`         |`next`        |`slice`       |\n",
    "|`ascii`        |`divmod`     |`id`          |`object`      |`sorted`      |\n",
    "|`bin`          |`enumerate`  |`input`       |`oct`         |`staticmethod`|\n",
    "|`bool`         |`eval`       |`int`         |`open`        |*str*         |\n",
    "|`breakpoint`   |`exec`       |`isinstance`  |`ord`         |`sum`         |\n",
    "|*bytearray*    |`filter`     |`issubclass`  |`pow`         |`super`       |\n",
    "|*bytes*        |`float`      |`iter`        |`print`       |*tuple*       |\n",
    "|`callable`     |`format`     |`len`         |`property`    |`type`        |\n",
    "|`chr`          |*frozenset*  |*list*        |*range*       |`vars`        |\n",
    "|`classmethod`  |`getattr`    |`locals`      |`repr`        |`zip`         |\n",
    "|`compile`      |`globals`    |`map`         |`reversed`    |`__import__`  |\n",
    "|`complex`      |`hasattr`    |`max`         |`round`       |              |"
   ]
  },
  {
   "cell_type": "markdown",
   "metadata": {},
   "source": []
  }
 ],
 "metadata": {
  "language_info": {
   "name": "python"
  },
  "orig_nbformat": 4
 },
 "nbformat": 4,
 "nbformat_minor": 2
}
