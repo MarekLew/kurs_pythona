{
 "cells": [
  {
   "cell_type": "markdown",
   "metadata": {},
   "source": [
    "## inicjowanie okna"
   ]
  },
  {
   "cell_type": "code",
   "execution_count": 1,
   "metadata": {},
   "outputs": [],
   "source": [
    "from tkinter import Tk,Canvas"
   ]
  },
  {
   "cell_type": "code",
   "execution_count": 129,
   "metadata": {},
   "outputs": [
    {
     "name": "stdout",
     "output_type": "stream",
     "text": [
      "ex can't invoke \"destroy\" command: application has been destroyed\n"
     ]
    }
   ],
   "source": [
    "import time\n",
    "try:\n",
    "    tk.destroy()\n",
    "except Exception as ex:\n",
    "    print(\"ex\",ex)\n",
    "    \n",
    "tk = Tk()\n",
    "tk.title(\"Gra\")\n",
    "tk.resizable(0, 0)\n",
    "tk.wm_attributes(\"-topmost\", 1)\n",
    "płótno = Canvas(tk, width=500, height=400, bd=0, highlightthickness=0)\n",
    "płótno.pack()\n",
    "tk.update()\n",
    "\n",
    "for i in range(200):\n",
    "    #piłka.rysuj()\n",
    "    tk.update_idletasks()\n",
    "    tk.update()\n",
    "    time.sleep(0.03)"
   ]
  },
  {
   "cell_type": "code",
   "execution_count": 139,
   "metadata": {},
   "outputs": [],
   "source": [
    "from PIL import ImageGrab\n",
    "from IPython.display import HTML\n",
    "def save_canvas(root,canvas):\n",
    "    x = root.winfo_rootx() + canvas.winfo_x()\n",
    "    y = root.winfo_rooty() + canvas.winfo_y()\n",
    "    xx = x + canvas.winfo_width()\n",
    "    yy = y + canvas.winfo_height()\n",
    "    return ImageGrab.grab(bbox=(x, y, xx, yy))\n",
    "\n",
    "def animuj(file_name,sekundy=6):\n",
    "    piłka = Piłka(płótno, 'red')\n",
    "    canvases=[]\n",
    "    for i in range(int(sekundy/0.03)):\n",
    "        piłka.rysuj()\n",
    "        tk.update_idletasks()\n",
    "        tk.update()\n",
    "        #canvases.append(save_canvas(tk,piłka.płótno))\n",
    "        time.sleep(0.03)\n",
    "    piłka.płótno.delete(piłka.id)\n",
    "    for ca in canvases:\n",
    "        ca.duration=0\n",
    "    #im = canvases.pop(0)\n",
    "    #im.save(f\"{file_name}.webp\", format=\"webp\", save_all=True, append_images=canvases,\n",
    "    #        duration=0,\n",
    "    #        loop=0)\n",
    "    return HTML('<img src=\"{}\">'.format(f\"{file_name}.webp\"))"
   ]
  },
  {
   "cell_type": "markdown",
   "metadata": {},
   "source": [
    "# Uzupełnianie pliku"
   ]
  },
  {
   "cell_type": "code",
   "execution_count": 140,
   "metadata": {},
   "outputs": [],
   "source": [
    "from tkinter import Tk,Canvas\n",
    "\n",
    "tk = Tk()\n",
    "tk.title(\"Gra\")\n",
    "tk.resizable(0, 0)\n",
    "tk.wm_attributes(\"-topmost\", 1)\n",
    "płótno = Canvas(tk, width=500, height=400, bd=0, highlightthickness=0)\n",
    "płótno.pack()\n",
    "tk.update()\n",
    "\n",
    "tk.mainloop()"
   ]
  },
  {
   "cell_type": "code",
   "execution_count": 137,
   "metadata": {},
   "outputs": [],
   "source": [
    "#region [Pilka]\n",
    "class Piłka:\n",
    "    def __init__(self, płótno, kolor):\n",
    "        self.płótno = płótno\n",
    "        self.id = płótno.create_oval(10, 10, 25, 25, fill=kolor)\n",
    "        self.płótno.move(self.id, 245, 100)\n",
    "    def rysuj(self):\n",
    "        pass\n",
    "#piłka = Piłka(płótno, 'red')\n",
    "# endregion"
   ]
  },
  {
   "cell_type": "code",
   "execution_count": 138,
   "metadata": {},
   "outputs": [
    {
     "data": {
      "text/html": [
       "<img src=\"file_1.webp\">"
      ],
      "text/plain": [
       "<IPython.core.display.HTML object>"
      ]
     },
     "execution_count": 138,
     "metadata": {},
     "output_type": "execute_result"
    }
   ],
   "source": [
    "animuj(\"file_1\",0.1)"
   ]
  },
  {
   "cell_type": "code",
   "execution_count": 131,
   "metadata": {},
   "outputs": [],
   "source": [
    "class Piłka:\n",
    "    def __init__(self, płótno, kolor):\n",
    "        self.płótno = płótno\n",
    "        self.id = płótno.create_oval(10, 10, 25, 25, fill=kolor)\n",
    "        self.płótno.move(self.id, 245, 100)\n",
    "    def rysuj(self):\n",
    "        #region [Pilka]\n",
    "        self.płótno.move(self.id, 0, 1)\n",
    "        # endregion\n",
    "#piłka = Piłka(płótno, 'red')"
   ]
  },
  {
   "cell_type": "code",
   "execution_count": 132,
   "metadata": {},
   "outputs": [
    {
     "data": {
      "text/html": [
       "<img src=\"file_2.webp\">"
      ],
      "text/plain": [
       "<IPython.core.display.HTML object>"
      ]
     },
     "execution_count": 132,
     "metadata": {},
     "output_type": "execute_result"
    }
   ],
   "source": [
    "animuj(\"file_2\")"
   ]
  },
  {
   "cell_type": "markdown",
   "metadata": {},
   "source": [
    "## Odbijanie się piłki"
   ]
  },
  {
   "cell_type": "code",
   "execution_count": 133,
   "metadata": {},
   "outputs": [],
   "source": [
    "class Piłka:\n",
    "    def __init__(self, płótno, kolor):\n",
    "        self.płótno = płótno\n",
    "        self.id = płótno.create_oval(10, 10, 25, 25, fill=kolor)\n",
    "        self.płótno.move(self.id, 245, 100)\n",
    "        #region [Pilka]\n",
    "        self.dx = 0\n",
    "        self.dy = 1\n",
    "        self.wysokość_płótna = self.płótno.winfo_height()\n",
    "        # endregion\n",
    "    def rysuj(self):\n",
    "        self.płótno.move(self.id, self.dx, self.dy)"
   ]
  },
  {
   "cell_type": "code",
   "execution_count": 134,
   "metadata": {},
   "outputs": [
    {
     "data": {
      "text/html": [
       "<img src=\"file_3.webp\">"
      ],
      "text/plain": [
       "<IPython.core.display.HTML object>"
      ]
     },
     "execution_count": 134,
     "metadata": {},
     "output_type": "execute_result"
    }
   ],
   "source": [
    "animuj(\"file_3\",11)"
   ]
  },
  {
   "cell_type": "code",
   "execution_count": 135,
   "metadata": {},
   "outputs": [],
   "source": [
    "class Piłka:\n",
    "    def __init__(self, płótno, kolor):\n",
    "        self.płótno = płótno\n",
    "        self.id = płótno.create_oval(10, 10, 25, 25, fill=kolor)\n",
    "        self.płótno.move(self.id, 245, 100)\n",
    "        self.dx = 0\n",
    "        #region [Pilka]\n",
    "        self.dy = -1\n",
    "        # endregion\n",
    "        self.wysokość_płótna = self.płótno.winfo_height()\n",
    "    def rysuj(self):\n",
    "        self.płótno.move(self.id, self.dx, self.dy)\n",
    "        #region [Pilka]\n",
    "        x0,y0,x1,y1 = self.płótno.coords(self.id)\n",
    "        if y0 <= 0:\n",
    "            self.dy  = 1\n",
    "        if y1 >=self.wysokość_płótna:\n",
    "            self.dy  = -1\n",
    "        # endregion\n"
   ]
  },
  {
   "cell_type": "code",
   "execution_count": 136,
   "metadata": {},
   "outputs": [
    {
     "data": {
      "text/html": [
       "<img src=\"file_4.webp\">"
      ],
      "text/plain": [
       "<IPython.core.display.HTML object>"
      ]
     },
     "execution_count": 136,
     "metadata": {},
     "output_type": "execute_result"
    }
   ],
   "source": [
    "animuj(\"file_4\",15)"
   ]
  },
  {
   "cell_type": "code",
   "execution_count": 62,
   "metadata": {},
   "outputs": [],
   "source": [
    "class Piłka:\n",
    "    def __init__(self, płótno, kolor):\n",
    "        self.płótno = płótno\n",
    "        self.id = płótno.create_oval(10, 10, 25, 25, fill=kolor)\n",
    "        self.płótno.move(self.id, 245, 100)\n",
    "        #region [Pilka]\n",
    "        self.dx = 1\n",
    "        self.dy = 0\n",
    "        # endregion\n",
    "        self.wysokość_płótna = self.płótno.winfo_height()\n",
    "        #region [Pilka]\n",
    "        self.szerokość_płótna = self.płótno.winfo_width()\n",
    "        # endregion\n",
    "    def rysuj(self):\n",
    "        self.płótno.move(self.id, self.dx, self.dy)\n",
    "        \n",
    "        x0,y0,x1,y1 = self.płótno.coords(self.id)\n",
    "        if y0 <= 0:\n",
    "            self.dy  = 1\n",
    "        if y1 >=self.wysokość_płótna:\n",
    "            self.dy  = -1\n",
    "        #region [Pilka]\n",
    "        if x0 <= 0:\n",
    "            self.dx  = 1\n",
    "        if x1 >=self.szerokość_płótna:\n",
    "            self.dx  = -1\n",
    "        # endregion"
   ]
  },
  {
   "cell_type": "code",
   "execution_count": 63,
   "metadata": {},
   "outputs": [
    {
     "data": {
      "text/html": [
       "<img src=\"file_4.webp\">"
      ],
      "text/plain": [
       "<IPython.core.display.HTML object>"
      ]
     },
     "execution_count": 63,
     "metadata": {},
     "output_type": "execute_result"
    }
   ],
   "source": [
    "animuj(\"file_4\",10)"
   ]
  },
  {
   "cell_type": "markdown",
   "metadata": {},
   "source": [
    "## ZMIANA POCZĄTKOWEGO KIERUNKU PIŁKI"
   ]
  },
  {
   "cell_type": "code",
   "execution_count": 70,
   "metadata": {},
   "outputs": [],
   "source": [
    "#region [Pilka]\n",
    "import random\n",
    "# endregion\n",
    "class Piłka:\n",
    "    #region [Pilka]\n",
    "    POCZĄTEK = (-3, -2, -1, 1, 2, 3)\n",
    "    # endregion\n",
    "    def __init__(self, płótno, kolor):\n",
    "        self.płótno = płótno\n",
    "        self.id = płótno.create_oval(10, 10, 25, 25, fill=kolor)\n",
    "        self.płótno.move(self.id, 245, 100)\n",
    "        #region [Pilka]\n",
    "        self.dx = random.choice(self.POCZĄTEK)\n",
    "        self.dy = -3\n",
    "        # endregion\n",
    "        self.wysokość_płótna = self.płótno.winfo_height()\n",
    "        self.szerokość_płótna = self.płótno.winfo_width()\n",
    "    def rysuj(self):\n",
    "        self.płótno.move(self.id, self.dx, self.dy)\n",
    "        \n",
    "        x0,y0,x1,y1 = self.płótno.coords(self.id)\n",
    "        if y0 <= 0:\n",
    "            self.dy  = 1\n",
    "        if y1 >=self.wysokość_płótna:\n",
    "            self.dy  = -1\n",
    "        if x0 <= 0:\n",
    "            self.dx  = 1\n",
    "        if x1 >=self.szerokość_płótna:\n",
    "            self.dx  = -1"
   ]
  },
  {
   "cell_type": "code",
   "execution_count": 71,
   "metadata": {},
   "outputs": [
    {
     "data": {
      "text/html": [
       "<img src=\"file_5.webp\">"
      ],
      "text/plain": [
       "<IPython.core.display.HTML object>"
      ]
     },
     "execution_count": 71,
     "metadata": {},
     "output_type": "execute_result"
    }
   ],
   "source": [
    "animuj(\"file_5\",10)"
   ]
  },
  {
   "cell_type": "markdown",
   "metadata": {},
   "source": [
    "Chcielibyśmy aby piłka odbijała się z taka samą prędkością."
   ]
  },
  {
   "cell_type": "code",
   "execution_count": 72,
   "metadata": {},
   "outputs": [],
   "source": [
    "\n",
    "class Piłka:\n",
    "    POCZĄTEK = (-3, -2, -1, 1, 2, 3)\n",
    "    def __init__(self, płótno, kolor):\n",
    "        self.płótno = płótno\n",
    "        self.id = płótno.create_oval(10, 10, 25, 25, fill=kolor)\n",
    "        self.płótno.move(self.id, 245, 100)\n",
    "        self.dx = random.choice(self.POCZĄTEK)\n",
    "        self.dy = -3\n",
    "        self.wysokość_płótna = self.płótno.winfo_height()\n",
    "        self.szerokość_płótna = self.płótno.winfo_width()\n",
    "    def rysuj(self):\n",
    "        self.płótno.move(self.id, self.dx, self.dy)\n",
    "        \n",
    "        x0,y0,x1,y1 = self.płótno.coords(self.id)\n",
    "        if y0 <= 0:\n",
    "            #region [Pilka]\n",
    "            self.dy  = -self.dy\n",
    "            # endregion\n",
    "        if y1 >=self.wysokość_płótna:\n",
    "            #region [Pilka]\n",
    "            self.dy  = -self.dy\n",
    "            # endregion\n",
    "        if x0 <= 0:\n",
    "            #region [Pilka]\n",
    "            self.dx  = -self.dx\n",
    "            # endregion\n",
    "        if x1 >=self.szerokość_płótna:\n",
    "            #region [Pilka]\n",
    "            self.dx  = -self.dx\n",
    "            # endregion"
   ]
  },
  {
   "cell_type": "code",
   "execution_count": 78,
   "metadata": {},
   "outputs": [
    {
     "data": {
      "text/html": [
       "<img src=\"file_6.webp\">"
      ],
      "text/plain": [
       "<IPython.core.display.HTML object>"
      ]
     },
     "execution_count": 78,
     "metadata": {},
     "output_type": "execute_result"
    }
   ],
   "source": [
    "animuj(\"file_6\",10)"
   ]
  },
  {
   "cell_type": "markdown",
   "metadata": {},
   "source": [
    "# Zamykanie okna na potrzeby prezentacjia"
   ]
  },
  {
   "cell_type": "code",
   "execution_count": 128,
   "metadata": {},
   "outputs": [],
   "source": [
    "tk.destroy()"
   ]
  },
  {
   "cell_type": "markdown",
   "metadata": {},
   "source": [
    "# Zapisanie klatki do pliku "
   ]
  },
  {
   "cell_type": "code",
   "execution_count": 139,
   "metadata": {},
   "outputs": [
    {
     "ename": "OSError",
     "evalue": "Unable to locate Ghostscript on paths",
     "output_type": "error",
     "traceback": [
      "\u001b[1;31m---------------------------------------------------------------------------\u001b[0m",
      "\u001b[1;31mOSError\u001b[0m                                   Traceback (most recent call last)",
      "\u001b[1;32m~\\AppData\\Local\\Temp/ipykernel_22432/1651561472.py\u001b[0m in \u001b[0;36m<module>\u001b[1;34m\u001b[0m\n\u001b[0;32m      4\u001b[0m \u001b[1;33m\u001b[0m\u001b[0m\n\u001b[0;32m      5\u001b[0m \u001b[0mim\u001b[0m \u001b[1;33m=\u001b[0m \u001b[0mImage\u001b[0m\u001b[1;33m.\u001b[0m\u001b[0mopen\u001b[0m\u001b[1;33m(\u001b[0m\u001b[0mimage_eps\u001b[0m\u001b[1;33m)\u001b[0m\u001b[1;33m\u001b[0m\u001b[1;33m\u001b[0m\u001b[0m\n\u001b[1;32m----> 6\u001b[1;33m \u001b[0mfig\u001b[0m \u001b[1;33m=\u001b[0m \u001b[0mim\u001b[0m\u001b[1;33m.\u001b[0m\u001b[0mconvert\u001b[0m\u001b[1;33m(\u001b[0m\u001b[1;34m'RGBA'\u001b[0m\u001b[1;33m)\u001b[0m\u001b[1;33m\u001b[0m\u001b[1;33m\u001b[0m\u001b[0m\n\u001b[0m\u001b[0;32m      7\u001b[0m \u001b[0mimage_png\u001b[0m\u001b[1;33m=\u001b[0m \u001b[1;34m'logo-rgb.jpg'\u001b[0m\u001b[1;33m\u001b[0m\u001b[1;33m\u001b[0m\u001b[0m\n\u001b[0;32m      8\u001b[0m \u001b[0mfig\u001b[0m\u001b[1;33m.\u001b[0m\u001b[0msave\u001b[0m\u001b[1;33m(\u001b[0m\u001b[0mimage_png\u001b[0m\u001b[1;33m,\u001b[0m \u001b[0mlossless\u001b[0m \u001b[1;33m=\u001b[0m \u001b[1;32mTrue\u001b[0m\u001b[1;33m)\u001b[0m\u001b[1;33m\u001b[0m\u001b[1;33m\u001b[0m\u001b[0m\n",
      "\u001b[1;32m~\\.virtualenvs\\kurs_pythona-bBMK3QH4\\lib\\site-packages\\PIL\\Image.py\u001b[0m in \u001b[0;36mconvert\u001b[1;34m(self, mode, matrix, dither, palette, colors)\u001b[0m\n\u001b[0;32m    913\u001b[0m         \"\"\"\n\u001b[0;32m    914\u001b[0m \u001b[1;33m\u001b[0m\u001b[0m\n\u001b[1;32m--> 915\u001b[1;33m         \u001b[0mself\u001b[0m\u001b[1;33m.\u001b[0m\u001b[0mload\u001b[0m\u001b[1;33m(\u001b[0m\u001b[1;33m)\u001b[0m\u001b[1;33m\u001b[0m\u001b[1;33m\u001b[0m\u001b[0m\n\u001b[0m\u001b[0;32m    916\u001b[0m \u001b[1;33m\u001b[0m\u001b[0m\n\u001b[0;32m    917\u001b[0m         \u001b[0mhas_transparency\u001b[0m \u001b[1;33m=\u001b[0m \u001b[0mself\u001b[0m\u001b[1;33m.\u001b[0m\u001b[0minfo\u001b[0m\u001b[1;33m.\u001b[0m\u001b[0mget\u001b[0m\u001b[1;33m(\u001b[0m\u001b[1;34m\"transparency\"\u001b[0m\u001b[1;33m)\u001b[0m \u001b[1;32mis\u001b[0m \u001b[1;32mnot\u001b[0m \u001b[1;32mNone\u001b[0m\u001b[1;33m\u001b[0m\u001b[1;33m\u001b[0m\u001b[0m\n",
      "\u001b[1;32m~\\.virtualenvs\\kurs_pythona-bBMK3QH4\\lib\\site-packages\\PIL\\EpsImagePlugin.py\u001b[0m in \u001b[0;36mload\u001b[1;34m(self, scale, transparency)\u001b[0m\n\u001b[0;32m    332\u001b[0m         \u001b[1;32mif\u001b[0m \u001b[1;32mnot\u001b[0m \u001b[0mself\u001b[0m\u001b[1;33m.\u001b[0m\u001b[0mtile\u001b[0m\u001b[1;33m:\u001b[0m\u001b[1;33m\u001b[0m\u001b[1;33m\u001b[0m\u001b[0m\n\u001b[0;32m    333\u001b[0m             \u001b[1;32mreturn\u001b[0m\u001b[1;33m\u001b[0m\u001b[1;33m\u001b[0m\u001b[0m\n\u001b[1;32m--> 334\u001b[1;33m         \u001b[0mself\u001b[0m\u001b[1;33m.\u001b[0m\u001b[0mim\u001b[0m \u001b[1;33m=\u001b[0m \u001b[0mGhostscript\u001b[0m\u001b[1;33m(\u001b[0m\u001b[0mself\u001b[0m\u001b[1;33m.\u001b[0m\u001b[0mtile\u001b[0m\u001b[1;33m,\u001b[0m \u001b[0mself\u001b[0m\u001b[1;33m.\u001b[0m\u001b[0msize\u001b[0m\u001b[1;33m,\u001b[0m \u001b[0mself\u001b[0m\u001b[1;33m.\u001b[0m\u001b[0mfp\u001b[0m\u001b[1;33m,\u001b[0m \u001b[0mscale\u001b[0m\u001b[1;33m,\u001b[0m \u001b[0mtransparency\u001b[0m\u001b[1;33m)\u001b[0m\u001b[1;33m\u001b[0m\u001b[1;33m\u001b[0m\u001b[0m\n\u001b[0m\u001b[0;32m    335\u001b[0m         \u001b[0mself\u001b[0m\u001b[1;33m.\u001b[0m\u001b[0mmode\u001b[0m \u001b[1;33m=\u001b[0m \u001b[0mself\u001b[0m\u001b[1;33m.\u001b[0m\u001b[0mim\u001b[0m\u001b[1;33m.\u001b[0m\u001b[0mmode\u001b[0m\u001b[1;33m\u001b[0m\u001b[1;33m\u001b[0m\u001b[0m\n\u001b[0;32m    336\u001b[0m         \u001b[0mself\u001b[0m\u001b[1;33m.\u001b[0m\u001b[0m_size\u001b[0m \u001b[1;33m=\u001b[0m \u001b[0mself\u001b[0m\u001b[1;33m.\u001b[0m\u001b[0mim\u001b[0m\u001b[1;33m.\u001b[0m\u001b[0msize\u001b[0m\u001b[1;33m\u001b[0m\u001b[1;33m\u001b[0m\u001b[0m\n",
      "\u001b[1;32m~\\.virtualenvs\\kurs_pythona-bBMK3QH4\\lib\\site-packages\\PIL\\EpsImagePlugin.py\u001b[0m in \u001b[0;36mGhostscript\u001b[1;34m(tile, size, fp, scale, transparency)\u001b[0m\n\u001b[0;32m    134\u001b[0m     \u001b[1;32mif\u001b[0m \u001b[0mgs_windows_binary\u001b[0m \u001b[1;32mis\u001b[0m \u001b[1;32mnot\u001b[0m \u001b[1;32mNone\u001b[0m\u001b[1;33m:\u001b[0m\u001b[1;33m\u001b[0m\u001b[1;33m\u001b[0m\u001b[0m\n\u001b[0;32m    135\u001b[0m         \u001b[1;32mif\u001b[0m \u001b[1;32mnot\u001b[0m \u001b[0mgs_windows_binary\u001b[0m\u001b[1;33m:\u001b[0m\u001b[1;33m\u001b[0m\u001b[1;33m\u001b[0m\u001b[0m\n\u001b[1;32m--> 136\u001b[1;33m             \u001b[1;32mraise\u001b[0m \u001b[0mOSError\u001b[0m\u001b[1;33m(\u001b[0m\u001b[1;34m\"Unable to locate Ghostscript on paths\"\u001b[0m\u001b[1;33m)\u001b[0m\u001b[1;33m\u001b[0m\u001b[1;33m\u001b[0m\u001b[0m\n\u001b[0m\u001b[0;32m    137\u001b[0m         \u001b[0mcommand\u001b[0m\u001b[1;33m[\u001b[0m\u001b[1;36m0\u001b[0m\u001b[1;33m]\u001b[0m \u001b[1;33m=\u001b[0m \u001b[0mgs_windows_binary\u001b[0m\u001b[1;33m\u001b[0m\u001b[1;33m\u001b[0m\u001b[0m\n\u001b[0;32m    138\u001b[0m \u001b[1;33m\u001b[0m\u001b[0m\n",
      "\u001b[1;31mOSError\u001b[0m: Unable to locate Ghostscript on paths"
     ]
    }
   ],
   "source": [
    "\n",
    "image_eps = \"live.eps\"\n",
    "płótno.postscript(file=\"live.eps\")\n",
    "from PIL import Image\n",
    "\n",
    "im = Image.open(image_eps)\n",
    "fig = im.convert('RGBA')\n",
    "image_png= 'logo-rgb.jpg'\n",
    "fig.save(image_png, lossless = True)\n"
   ]
  },
  {
   "cell_type": "code",
   "execution_count": 155,
   "metadata": {},
   "outputs": [],
   "source": [
    "from PIL import ImageGrab\n",
    "def save_canvas(root,canvas):\n",
    "    x = root.winfo_rootx() + canvas.winfo_x()\n",
    "    y = root.winfo_rooty() + canvas.winfo_y()\n",
    "    xx = x + canvas.winfo_width()\n",
    "    yy = y + canvas.winfo_height()\n",
    "    return ImageGrab.grab(bbox=(x, y, xx, yy))\n",
    "    \n",
    "#.save(\"test.png\")"
   ]
  },
  {
   "cell_type": "code",
   "execution_count": 150,
   "metadata": {},
   "outputs": [
    {
     "ename": "TclError",
     "evalue": "can't invoke \"winfo\" command: application has been destroyed",
     "output_type": "error",
     "traceback": [
      "\u001b[1;31m---------------------------------------------------------------------------\u001b[0m",
      "\u001b[1;31mTclError\u001b[0m                                  Traceback (most recent call last)",
      "\u001b[1;32m~\\AppData\\Local\\Temp/ipykernel_22432/2218447956.py\u001b[0m in \u001b[0;36m<module>\u001b[1;34m\u001b[0m\n\u001b[1;32m----> 1\u001b[1;33m \u001b[0msave_canvas\u001b[0m\u001b[1;33m(\u001b[0m\u001b[0mtk\u001b[0m\u001b[1;33m,\u001b[0m\u001b[0mpiłka\u001b[0m\u001b[1;33m.\u001b[0m\u001b[0mpłótno\u001b[0m\u001b[1;33m)\u001b[0m\u001b[1;33m\u001b[0m\u001b[1;33m\u001b[0m\u001b[0m\n\u001b[0m",
      "\u001b[1;32m~\\AppData\\Local\\Temp/ipykernel_22432/2077643654.py\u001b[0m in \u001b[0;36msave_canvas\u001b[1;34m(root, canvas)\u001b[0m\n\u001b[0;32m      1\u001b[0m \u001b[1;32mfrom\u001b[0m \u001b[0mPIL\u001b[0m \u001b[1;32mimport\u001b[0m \u001b[0mImageGrab\u001b[0m\u001b[1;33m\u001b[0m\u001b[1;33m\u001b[0m\u001b[0m\n\u001b[0;32m      2\u001b[0m \u001b[1;32mdef\u001b[0m \u001b[0msave_canvas\u001b[0m\u001b[1;33m(\u001b[0m\u001b[0mroot\u001b[0m\u001b[1;33m,\u001b[0m\u001b[0mcanvas\u001b[0m\u001b[1;33m)\u001b[0m\u001b[1;33m:\u001b[0m\u001b[1;33m\u001b[0m\u001b[1;33m\u001b[0m\u001b[0m\n\u001b[1;32m----> 3\u001b[1;33m     \u001b[0mx\u001b[0m \u001b[1;33m=\u001b[0m \u001b[0mroot\u001b[0m\u001b[1;33m.\u001b[0m\u001b[0mwinfo_rootx\u001b[0m\u001b[1;33m(\u001b[0m\u001b[1;33m)\u001b[0m \u001b[1;33m+\u001b[0m \u001b[0mcanvas\u001b[0m\u001b[1;33m.\u001b[0m\u001b[0mwinfo_x\u001b[0m\u001b[1;33m(\u001b[0m\u001b[1;33m)\u001b[0m\u001b[1;33m\u001b[0m\u001b[1;33m\u001b[0m\u001b[0m\n\u001b[0m\u001b[0;32m      4\u001b[0m     \u001b[0my\u001b[0m \u001b[1;33m=\u001b[0m \u001b[0mroot\u001b[0m\u001b[1;33m.\u001b[0m\u001b[0mwinfo_rooty\u001b[0m\u001b[1;33m(\u001b[0m\u001b[1;33m)\u001b[0m \u001b[1;33m+\u001b[0m \u001b[0mcanvas\u001b[0m\u001b[1;33m.\u001b[0m\u001b[0mwinfo_y\u001b[0m\u001b[1;33m(\u001b[0m\u001b[1;33m)\u001b[0m\u001b[1;33m\u001b[0m\u001b[1;33m\u001b[0m\u001b[0m\n\u001b[0;32m      5\u001b[0m     \u001b[0mxx\u001b[0m \u001b[1;33m=\u001b[0m \u001b[0mx\u001b[0m \u001b[1;33m+\u001b[0m \u001b[0mcanvas\u001b[0m\u001b[1;33m.\u001b[0m\u001b[0mwinfo_width\u001b[0m\u001b[1;33m(\u001b[0m\u001b[1;33m)\u001b[0m\u001b[1;33m\u001b[0m\u001b[1;33m\u001b[0m\u001b[0m\n",
      "\u001b[1;32mC:\\Program Files\\WindowsApps\\PythonSoftwareFoundation.Python.3.9_3.9.2544.0_x64__qbz5n2kfra8p0\\lib\\tkinter\\__init__.py\u001b[0m in \u001b[0;36mwinfo_x\u001b[1;34m(self)\u001b[0m\n\u001b[0;32m   1302\u001b[0m         in the parent.\"\"\"\n\u001b[0;32m   1303\u001b[0m         return self.tk.getint(\n\u001b[1;32m-> 1304\u001b[1;33m             self.tk.call('winfo', 'x', self._w))\n\u001b[0m\u001b[0;32m   1305\u001b[0m \u001b[1;33m\u001b[0m\u001b[0m\n\u001b[0;32m   1306\u001b[0m     \u001b[1;32mdef\u001b[0m \u001b[0mwinfo_y\u001b[0m\u001b[1;33m(\u001b[0m\u001b[0mself\u001b[0m\u001b[1;33m)\u001b[0m\u001b[1;33m:\u001b[0m\u001b[1;33m\u001b[0m\u001b[1;33m\u001b[0m\u001b[0m\n",
      "\u001b[1;31mTclError\u001b[0m: can't invoke \"winfo\" command: application has been destroyed"
     ]
    }
   ],
   "source": [
    "save_canvas(tk,piłka.płótno)"
   ]
  },
  {
   "cell_type": "code",
   "execution_count": null,
   "metadata": {},
   "outputs": [],
   "source": []
  }
 ],
 "metadata": {
  "interpreter": {
   "hash": "53e30c6a314a79f95a5cafb50b22b70d8cf5945e267577078f7514e9b757aed9"
  },
  "kernelspec": {
   "display_name": "Python 3.9.9 64-bit ('kurs_pythona-bBMK3QH4': pipenv)",
   "language": "python",
   "name": "python3"
  },
  "language_info": {
   "codemirror_mode": {
    "name": "ipython",
    "version": 3
   },
   "file_extension": ".py",
   "mimetype": "text/x-python",
   "name": "python",
   "nbconvert_exporter": "python",
   "pygments_lexer": "ipython3",
   "version": "3.9.9"
  },
  "orig_nbformat": 4
 },
 "nbformat": 4,
 "nbformat_minor": 2
}
