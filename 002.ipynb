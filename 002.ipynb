{
 "cells": [
  {
   "cell_type": "markdown",
   "metadata": {},
   "source": [
    "# Zmienne w łańcuchach\n",
    "\n",
    "Istnieją trzy podstawowe sposoby umieszczania zmiennej w łańcuchu"
   ]
  },
  {
   "cell_type": "code",
   "execution_count": 13,
   "metadata": {},
   "outputs": [
    {
     "name": "stdout",
     "output_type": "stream",
     "text": [
      "Co cyfra 0 mówi do cyfry 8? Fajny pasek!!\n"
     ]
    }
   ],
   "source": [
    "cyferki = 'Co cyfra %s mówi do cyfry %s? Fajny pasek!!'\n",
    "print(cyferki % (0, 8))"
   ]
  },
  {
   "cell_type": "code",
   "execution_count": 4,
   "metadata": {},
   "outputs": [
    {
     "name": "stdout",
     "output_type": "stream",
     "text": [
      "Co cyfra 0 mówi do cyfry 8? Fajny pasek!!\n"
     ]
    }
   ],
   "source": [
    "cyferki = 'Co cyfra {} mówi do cyfry {}? Fajny pasek!!'\n",
    "print(cyferki.format(0, 8))"
   ]
  },
  {
   "cell_type": "code",
   "execution_count": 5,
   "metadata": {},
   "outputs": [
    {
     "name": "stdout",
     "output_type": "stream",
     "text": [
      "Co cyfra 0 mówi do cyfry 8? Fajny pasek!!\n"
     ]
    }
   ],
   "source": [
    "cyfra1 , cyfra2 = 0, 8\n",
    "cyferki = f'Co cyfra {cyfra1} mówi do cyfry {cyfra2}? Fajny pasek!!'\n",
    "print(cyferki)"
   ]
  },
  {
   "cell_type": "code",
   "execution_count": null,
   "metadata": {},
   "outputs": [],
   "source": []
  }
 ],
 "metadata": {
  "interpreter": {
   "hash": "84ab3b1fae394f3ebcea1978463b52294fa6ba6af0c691c3a2f58cc5290b50d6"
  },
  "kernelspec": {
   "display_name": "Python 3.10.0 64-bit ('env': venv)",
   "language": "python",
   "name": "python3"
  },
  "language_info": {
   "codemirror_mode": {
    "name": "ipython",
    "version": 3
   },
   "file_extension": ".py",
   "mimetype": "text/x-python",
   "name": "python",
   "nbconvert_exporter": "python",
   "pygments_lexer": "ipython3",
   "version": "3.10.0"
  },
  "orig_nbformat": 4
 },
 "nbformat": 4,
 "nbformat_minor": 2
}
